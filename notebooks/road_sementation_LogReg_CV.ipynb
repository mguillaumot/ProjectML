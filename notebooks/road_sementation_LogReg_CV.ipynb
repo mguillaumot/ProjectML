{
 "cells": [
  {
   "cell_type": "code",
   "execution_count": 1,
   "metadata": {},
   "outputs": [],
   "source": [
    "%matplotlib inline\n",
    "import matplotlib.image as mpimg\n",
    "import numpy as np\n",
    "import matplotlib.pyplot as plt\n",
    "# import os,sys\n",
    "# from PIL import Image\n",
    "\n",
    "from helpers import *\n",
    "from sklearn import linear_model\n",
    "from sklearn.metrics import confusion_matrix\n",
    "\n",
    "%load_ext autoreload\n",
    "%autoreload 2"
   ]
  },
  {
   "cell_type": "code",
   "execution_count": 3,
   "metadata": {},
   "outputs": [],
   "source": [
    "from sklearn import metrics, cross_validation\n",
    "from sklearn.model_selection import KFold\n",
    "from sklearn.metrics import f1_score\n",
    "from sklearn.metrics import accuracy_score\n",
    "from sklearn.metrics import mean_squared_error\n",
    "\n",
    "from plots import cross_validation_visualization_f1score\n",
    "from plots import cross_validation_visualization_rmse"
   ]
  },
  {
   "cell_type": "code",
   "execution_count": 4,
   "metadata": {},
   "outputs": [],
   "source": [
    "try: \n",
    "    import cv2\n",
    "except: \n",
    "    import pip\n",
    "    pip.main(['install', 'opencv-python'])\n",
    "    import cv2 "
   ]
  },
  {
   "cell_type": "code",
   "execution_count": 5,
   "metadata": {
    "scrolled": true
   },
   "outputs": [
    {
     "name": "stdout",
     "output_type": "stream",
     "text": [
      "Loading 100 satellite + ground truth images\n"
     ]
    }
   ],
   "source": [
    "# Loaded a set of images\n",
    "root_dir = \"../training/\"\n",
    "image_dir = root_dir + \"images/\"\n",
    "gt_dir = root_dir + \"groundtruth/\"\n",
    "\n",
    "files = os.listdir(image_dir)\n",
    "\n",
    "n = len(files)\n",
    "imgs = [load_image(image_dir + files[i]) for i in range(n)]\n",
    "gt_imgs = [load_image(gt_dir + files[i]) for i in range(n)]\n",
    "\n",
    "print(\"Loading \" + str(n) + \" satellite + ground truth images\")"
   ]
  },
  {
   "cell_type": "code",
   "execution_count": 6,
   "metadata": {},
   "outputs": [],
   "source": [
    "# # Reduce dataset for tests\n",
    "# imgs = imgs[0:10]\n",
    "# gt_imgs = gt_imgs[0:10]\n",
    "# len(imgs)"
   ]
  },
  {
   "cell_type": "code",
   "execution_count": 7,
   "metadata": {},
   "outputs": [],
   "source": [
    "seed = 3\n",
    "np.random.seed(seed)\n",
    "imgs = np.random.permutation(imgs)\n",
    "gt_imgs = np.random.permutation(gt_imgs)"
   ]
  },
  {
   "cell_type": "code",
   "execution_count": 8,
   "metadata": {},
   "outputs": [
    {
     "data": {
      "text/plain": [
       "10"
      ]
     },
     "execution_count": 8,
     "metadata": {},
     "output_type": "execute_result"
    }
   ],
   "source": [
    "patch_size = 16\n",
    "\n",
    "kf = KFold(n_splits = 10)\n",
    "kf.get_n_splits(imgs)"
   ]
  },
  {
   "cell_type": "code",
   "execution_count": 9,
   "metadata": {},
   "outputs": [],
   "source": [
    "import time"
   ]
  },
  {
   "cell_type": "code",
   "execution_count": 10,
   "metadata": {
    "scrolled": true
   },
   "outputs": [
    {
     "name": "stdout",
     "output_type": "stream",
     "text": [
      "C = 100000.0\n",
      "\n",
      "1-th CV\n",
      "All data balanced and ready!\n",
      "(115996, 91)\n",
      "Train f1_score : 0.5359064105658816\n",
      "Test f1_score : 0.4445412044553611\n",
      "Test f1_score post processed : 0.48352\n",
      "\n",
      "\n",
      "2-th CV\n",
      "All data balanced and ready!\n",
      "(118334, 91)\n"
     ]
    },
    {
     "ename": "KeyboardInterrupt",
     "evalue": "",
     "output_type": "error",
     "traceback": [
      "\u001b[1;31m---------------------------------------------------------------------------\u001b[0m",
      "\u001b[1;31mKeyboardInterrupt\u001b[0m                         Traceback (most recent call last)",
      "\u001b[1;32m<ipython-input-10-a18a222fca8f>\u001b[0m in \u001b[0;36m<module>\u001b[1;34m()\u001b[0m\n\u001b[0;32m    104\u001b[0m         \u001b[1;31m#\u001b[0m\u001b[1;33m\u001b[0m\u001b[1;33m\u001b[0m\u001b[0m\n\u001b[0;32m    105\u001b[0m         \u001b[0mlogreg\u001b[0m \u001b[1;33m=\u001b[0m \u001b[0mlinear_model\u001b[0m\u001b[1;33m.\u001b[0m\u001b[0mLogisticRegression\u001b[0m\u001b[1;33m(\u001b[0m\u001b[0mC\u001b[0m\u001b[1;33m=\u001b[0m\u001b[0mC\u001b[0m\u001b[1;33m,\u001b[0m \u001b[0mclass_weight\u001b[0m\u001b[1;33m=\u001b[0m\u001b[1;34m\"balanced\"\u001b[0m\u001b[1;33m)\u001b[0m\u001b[1;33m\u001b[0m\u001b[0m\n\u001b[1;32m--> 106\u001b[1;33m         \u001b[0mlogreg\u001b[0m\u001b[1;33m.\u001b[0m\u001b[0mfit\u001b[0m\u001b[1;33m(\u001b[0m\u001b[0mX_train\u001b[0m\u001b[1;33m,\u001b[0m \u001b[0my_train\u001b[0m\u001b[1;33m)\u001b[0m\u001b[1;33m\u001b[0m\u001b[0m\n\u001b[0m\u001b[0;32m    107\u001b[0m \u001b[1;31m#         print(\"Model fitted!\")\u001b[0m\u001b[1;33m\u001b[0m\u001b[1;33m\u001b[0m\u001b[0m\n\u001b[0;32m    108\u001b[0m         \u001b[0mz_train\u001b[0m \u001b[1;33m=\u001b[0m \u001b[0mlogreg\u001b[0m\u001b[1;33m.\u001b[0m\u001b[0mpredict\u001b[0m\u001b[1;33m(\u001b[0m\u001b[0mX_train\u001b[0m\u001b[1;33m)\u001b[0m\u001b[1;33m\u001b[0m\u001b[0m\n",
      "\u001b[1;32mc:\\users\\prisgdd\\anaconda3\\lib\\site-packages\\sklearn\\linear_model\\logistic.py\u001b[0m in \u001b[0;36mfit\u001b[1;34m(self, X, y, sample_weight)\u001b[0m\n\u001b[0;32m   1231\u001b[0m                 \u001b[0mself\u001b[0m\u001b[1;33m.\u001b[0m\u001b[0mclass_weight\u001b[0m\u001b[1;33m,\u001b[0m \u001b[0mself\u001b[0m\u001b[1;33m.\u001b[0m\u001b[0mpenalty\u001b[0m\u001b[1;33m,\u001b[0m \u001b[0mself\u001b[0m\u001b[1;33m.\u001b[0m\u001b[0mdual\u001b[0m\u001b[1;33m,\u001b[0m \u001b[0mself\u001b[0m\u001b[1;33m.\u001b[0m\u001b[0mverbose\u001b[0m\u001b[1;33m,\u001b[0m\u001b[1;33m\u001b[0m\u001b[0m\n\u001b[0;32m   1232\u001b[0m                 \u001b[0mself\u001b[0m\u001b[1;33m.\u001b[0m\u001b[0mmax_iter\u001b[0m\u001b[1;33m,\u001b[0m \u001b[0mself\u001b[0m\u001b[1;33m.\u001b[0m\u001b[0mtol\u001b[0m\u001b[1;33m,\u001b[0m \u001b[0mself\u001b[0m\u001b[1;33m.\u001b[0m\u001b[0mrandom_state\u001b[0m\u001b[1;33m,\u001b[0m\u001b[1;33m\u001b[0m\u001b[0m\n\u001b[1;32m-> 1233\u001b[1;33m                 sample_weight=sample_weight)\n\u001b[0m\u001b[0;32m   1234\u001b[0m             \u001b[0mself\u001b[0m\u001b[1;33m.\u001b[0m\u001b[0mn_iter_\u001b[0m \u001b[1;33m=\u001b[0m \u001b[0mnp\u001b[0m\u001b[1;33m.\u001b[0m\u001b[0marray\u001b[0m\u001b[1;33m(\u001b[0m\u001b[1;33m[\u001b[0m\u001b[0mn_iter_\u001b[0m\u001b[1;33m]\u001b[0m\u001b[1;33m)\u001b[0m\u001b[1;33m\u001b[0m\u001b[0m\n\u001b[0;32m   1235\u001b[0m             \u001b[1;32mreturn\u001b[0m \u001b[0mself\u001b[0m\u001b[1;33m\u001b[0m\u001b[0m\n",
      "\u001b[1;32mc:\\users\\prisgdd\\anaconda3\\lib\\site-packages\\sklearn\\svm\\base.py\u001b[0m in \u001b[0;36m_fit_liblinear\u001b[1;34m(X, y, C, fit_intercept, intercept_scaling, class_weight, penalty, dual, verbose, max_iter, tol, random_state, multi_class, loss, epsilon, sample_weight)\u001b[0m\n\u001b[0;32m    888\u001b[0m         \u001b[0mX\u001b[0m\u001b[1;33m,\u001b[0m \u001b[0my_ind\u001b[0m\u001b[1;33m,\u001b[0m \u001b[0msp\u001b[0m\u001b[1;33m.\u001b[0m\u001b[0misspmatrix\u001b[0m\u001b[1;33m(\u001b[0m\u001b[0mX\u001b[0m\u001b[1;33m)\u001b[0m\u001b[1;33m,\u001b[0m \u001b[0msolver_type\u001b[0m\u001b[1;33m,\u001b[0m \u001b[0mtol\u001b[0m\u001b[1;33m,\u001b[0m \u001b[0mbias\u001b[0m\u001b[1;33m,\u001b[0m \u001b[0mC\u001b[0m\u001b[1;33m,\u001b[0m\u001b[1;33m\u001b[0m\u001b[0m\n\u001b[0;32m    889\u001b[0m         \u001b[0mclass_weight_\u001b[0m\u001b[1;33m,\u001b[0m \u001b[0mmax_iter\u001b[0m\u001b[1;33m,\u001b[0m \u001b[0mrnd\u001b[0m\u001b[1;33m.\u001b[0m\u001b[0mrandint\u001b[0m\u001b[1;33m(\u001b[0m\u001b[0mnp\u001b[0m\u001b[1;33m.\u001b[0m\u001b[0miinfo\u001b[0m\u001b[1;33m(\u001b[0m\u001b[1;34m'i'\u001b[0m\u001b[1;33m)\u001b[0m\u001b[1;33m.\u001b[0m\u001b[0mmax\u001b[0m\u001b[1;33m)\u001b[0m\u001b[1;33m,\u001b[0m\u001b[1;33m\u001b[0m\u001b[0m\n\u001b[1;32m--> 890\u001b[1;33m         epsilon, sample_weight)\n\u001b[0m\u001b[0;32m    891\u001b[0m     \u001b[1;31m# Regarding rnd.randint(..) in the above signature:\u001b[0m\u001b[1;33m\u001b[0m\u001b[1;33m\u001b[0m\u001b[0m\n\u001b[0;32m    892\u001b[0m     \u001b[1;31m# seed for srand in range [0..INT_MAX); due to limitations in Numpy\u001b[0m\u001b[1;33m\u001b[0m\u001b[1;33m\u001b[0m\u001b[0m\n",
      "\u001b[1;31mKeyboardInterrupt\u001b[0m: "
     ]
    }
   ],
   "source": [
    "# Cs = np.arange(1e4, 1e4 + 1, 10000) \n",
    "lambdas = np.logspace(-5, 0, 10)\n",
    "Cs = [np.ceil(1/lambda_) for lambda_ in lambdas]\n",
    "\n",
    "acc_threshold =[]\n",
    "\n",
    "accuracy_train_C = []\n",
    "f1_score_train_C = []\n",
    "mse_train_C = []\n",
    "rmse_train_C = []\n",
    "\n",
    "accuracy_test_C = []\n",
    "f1_score_test_C = []\n",
    "mse_test_C = []\n",
    "rmse_test_C = []\n",
    "\n",
    "accuracy_test_C_pp = []\n",
    "f1_score_test_C_pp = []\n",
    "mse_test_C_pp = []\n",
    "rmse_test_C_pp = []\n",
    "\n",
    "start_time_total = time.time()\n",
    "for C in Cs:\n",
    "    start_time_C = time.time()\n",
    "    print(\"C = {}\".format(C))\n",
    "\n",
    "    accuracy_train_CV = []\n",
    "    accuracy_test_CV = []\n",
    "    mse_train_CV = []\n",
    "    rmse_train_CV = []\n",
    "    \n",
    "    f1_score_train_CV = []\n",
    "    f1_score_test_CV = []\n",
    "    mse_test_CV = []\n",
    "    rmse_test_CV = []\n",
    "    \n",
    "    accuracy_test_CV_pp = []\n",
    "    f1_score_test_CV_pp = []\n",
    "    mse_test_CV_pp = []\n",
    "    rmse_test_CV_pp = []\n",
    "\n",
    "    for ind, [train_index, test_index] in enumerate(kf.split(imgs)):\n",
    "\n",
    "        #\n",
    "        # Split dataset for Cross Validation\n",
    "        #\n",
    "        print(\"\\n{}-th CV\".format(ind+1))\n",
    "\n",
    "        X_train = [imgs[ind] for ind in train_index]\n",
    "        X_test = [imgs[ind] for ind in test_index]\n",
    "\n",
    "        y_train = [gt_imgs[ind] for ind in train_index]\n",
    "        y_test = [gt_imgs[ind] for ind in test_index]\n",
    "\n",
    "        #\n",
    "        # Crop images, extract features, features augmentation and standardization\n",
    "        # For both train & test datasets\n",
    "        # \n",
    "        X_train = [img_crop(X_train[i], patch_size, patch_size, step = 8) for i in range(len(train_index))]\n",
    "        y_train = [img_crop(y_train[i], patch_size, patch_size, step = 8) for i in range(len(train_index))]\n",
    "        X_test = [img_crop(X_test[i], patch_size, patch_size) for i in range(len(test_index))]\n",
    "        y_test = [img_crop(y_test[i], patch_size, patch_size) for i in range(len(test_index))]        \n",
    "\n",
    "        X_train = np.asarray([X_train[i][j] for i in range(len(X_train)) for j in range(len(X_train[i]))])\n",
    "        X_test = np.asarray([X_test[i][j] for i in range(len(X_test)) for j in range(len(X_test[i]))])\n",
    "        y_train = np.asarray([y_train[i][j] for i in range(len(y_train)) for j in range(len(y_train[i]))])\n",
    "        y_test = np.asarray([y_test[i][j] for i in range(len(y_test)) for j in range(len(y_test[i]))])\n",
    "\n",
    "        y_train = np.asarray([value_to_class(np.mean(y_train[i])) for i in range(y_train.shape[0])])\n",
    "        y_test = np.asarray([value_to_class(np.mean(y_test[i])) for i in range(y_test.shape[0])])\n",
    "#         print(\"Got all data in arrays!\")\n",
    "\n",
    "        # \n",
    "        # Balancing train data\n",
    "        # \n",
    "        c0, c1 = 0, 0\n",
    "        for i in range(len(y_train)):\n",
    "            if y_train[i] == 0:\n",
    "                c0 = c0 + 1\n",
    "            else:\n",
    "                c1 = c1 + 1\n",
    "                \n",
    "        min_c = min(c0, c1)\n",
    "        idx0 = [i for i, j in enumerate(y_train) if j == 0]\n",
    "        idx1 = [i for i, j in enumerate(y_train) if j == 1]\n",
    "        new_indices = idx0[0:min_c] + idx1[0:min_c]\n",
    "        X_train = X_train[new_indices]\n",
    "        y_train = y_train[new_indices]\n",
    "        \n",
    "        \n",
    "        \n",
    "        X_train = np.asarray([ extract_features(X_train[i]) for i in range(len(X_train))])\n",
    "        X_train = features_augmentation(X_train)\n",
    "#         print(\"Train data ready!\")\n",
    "\n",
    "        X_test = np.asarray([ extract_features(X_test[i]) for i in range(len(X_test))])\n",
    "        X_test = features_augmentation(X_test)\n",
    "#         print(\"Test data ready!\")\n",
    "        print(\"All data balanced and ready!\")\n",
    "        print(X_train.shape)\n",
    "\n",
    "        # \n",
    "        # Run logistic regression \n",
    "        # \n",
    "        logreg = linear_model.LogisticRegression(C=C, class_weight=\"balanced\")\n",
    "        logreg.fit(X_train, y_train)\n",
    "#         print(\"Model fitted!\")\n",
    "        z_train = logreg.predict(X_train)\n",
    "        z_test = logreg.predict(X_test)\n",
    "\n",
    "        # \n",
    "        # Compute f1 score & accuracy using sklearn functions\n",
    "        # \n",
    "        f1_score_train = f1_score(y_train, z_train, average='micro')\n",
    "        accuracy_score_train = accuracy_score(y_train, z_train)\n",
    "        mse_train = mean_squared_error(y_train, z_train)\n",
    "        rmse_train = np.sqrt(mean_squared_error(y_train, z_train))\n",
    "        \n",
    "        f1_score_test = f1_score(y_test, z_test, average='macro')\n",
    "        accuracy_score_test = accuracy_score(y_test, z_test)\n",
    "        mse_test = mean_squared_error(y_test, z_test)\n",
    "        rmse_test = np.sqrt(mean_squared_error(y_test, z_test))\n",
    "        \n",
    "        print(\"Train f1_score : {}\".format(f1_score_train))\n",
    "        print(\"Test f1_score : {}\".format(f1_score_test))\n",
    "        \n",
    "        \n",
    "        # \n",
    "        # Post processing on test dataset\n",
    "        # \n",
    "        \n",
    "        # Reshape prediction as matrix for each image\n",
    "        z_reshaped = []\n",
    "        num_patch_total = len(z_test)\n",
    "        num_patch_by_img = num_patch_total // len(test_index)\n",
    "        \n",
    "        for i in range(0, num_patch_total, num_patch_by_img):\n",
    "            z_crt = z_test[i : i + num_patch_by_img]\n",
    "            z_reshaped.append(np.reshape(z_crt, [400 // 16, 400 // 16]))\n",
    "\n",
    "        # Run post process \n",
    "        for ind, label_img in enumerate(z_reshaped):\n",
    "            label_img = postprocess(label_img)\n",
    "            z_reshaped[ind] = np.reshape(label_img, [z_crt.shape[0]])\n",
    "\n",
    "        # Convert list as array\n",
    "        z_test_pp = np.concatenate( z_reshaped , axis = 0 )\n",
    "#         print(\"Postprocessing done!\")\n",
    "\n",
    "        f1_score_test_pp = f1_score(y_test, z_test_pp, average='micro')\n",
    "        accuracy_score_test_pp = accuracy_score(y_test, z_test_pp)\n",
    "        mse_test_pp = mean_squared_error(y_test, z_test_pp)\n",
    "        rmse_test_pp = np.sqrt(mean_squared_error(y_test, z_test_pp))\n",
    "        \n",
    "        print(\"Test f1_score post processed : {}\\n\".format(f1_score_test_pp))\n",
    "        \n",
    "        # \n",
    "        # Store accuracy for train, test and test+PP\n",
    "        # \n",
    "        f1_score_train_CV.append(f1_score_train)\n",
    "        accuracy_train_CV.append(accuracy_score_train)\n",
    "        mse_train_CV.append(mse_train)\n",
    "        rmse_train_CV.append(rmse_train)\n",
    "\n",
    "        f1_score_test_CV.append(f1_score_test)\n",
    "        accuracy_test_CV.append(accuracy_score_test)\n",
    "        mse_test_CV.append(mse_test)\n",
    "        rmse_test_CV.append(rmse_test)\n",
    "        \n",
    "        f1_score_test_CV_pp.append(f1_score_test_pp)\n",
    "        accuracy_test_CV_pp.append(accuracy_score_test_pp)\n",
    "        mse_test_CV_pp.append(mse_test_pp)\n",
    "        rmse_test_CV_pp.append(rmse_test_pp)\n",
    "    \n",
    "\n",
    "    print(\"Average train F1-score: {}\".format(np.mean(f1_score_train_CV)))\n",
    "    \n",
    "    print(\"Average test F1-score: {}\".format(np.mean(f1_score_test_CV)))\n",
    "    print(\"Variance test F1-score: {}\".format(np.std(f1_score_test_CV)))\n",
    "    print(\"Min test F1-score: {} // Max test F1-score: {}\\n\".format(np.min(f1_score_test_CV), np.max(f1_score_test_CV)))\n",
    "    \n",
    "    print(\"Average test F1-score PP: {}\".format(np.mean(f1_score_test_CV_pp)))\n",
    "    print(\"Variance test F1-score PP: {}\".format(np.std(f1_score_test_CV_pp)))\n",
    "    print(\"Min test F1-score PP: {} // Max test F1-score PP: {}\\n\".format(np.min(f1_score_test_CV_pp), np.max(f1_score_test_CV_pp)))\n",
    "    \n",
    "    accuracy_train_C.append(np.mean(accuracy_train_CV))\n",
    "    f1_score_train_C.append(np.mean(f1_score_train_CV))\n",
    "    mse_train_C.append(np.mean(mse_train_CV))\n",
    "    rmse_train_C.append(np.mean(rmse_train_CV))\n",
    "\n",
    "    accuracy_test_C.append(np.mean(accuracy_test_CV))\n",
    "    f1_score_test_C.append(np.mean(f1_score_test_CV))\n",
    "    mse_test_C.append(np.mean(mse_test_CV))\n",
    "    rmse_test_C.append(np.mean(rmse_test_CV))\n",
    "    \n",
    "    accuracy_test_C_pp.append(np.mean(accuracy_test_CV_pp))\n",
    "    f1_score_test_C_pp.append(np.mean(f1_score_test_CV_pp))\n",
    "    mse_test_C_pp.append(np.mean(mse_test_CV_pp))\n",
    "    rmse_test_C_pp.append(np.mean(rmse_test_CV_pp))\n",
    "    \n",
    "    \n",
    "    print(\"Time for C = %s --- %s seconds --- \\n\\n\" % (C, time.time() - start_time_C))\n",
    "print(\"T4otal time --- %s seconds --- \\n\\n\" % (time.time() - start_time_total))\n",
    "        "
   ]
  },
  {
   "cell_type": "code",
   "execution_count": 12,
   "metadata": {
    "scrolled": true
   },
   "outputs": [
    {
     "data": {
      "image/png": "[encoded data removed]",
      "text/plain": [
       "<matplotlib.figure.Figure at 0x26204d9ab70>"
      ]
     },
     "metadata": {},
     "output_type": "display_data"
    }
   ],
   "source": [
    "cross_validation_visualization_f1score(lambdas, f1_score_train_C, f1_score_test_C, f1_score_test_C_pp)"
   ]
  },
  {
   "cell_type": "code",
   "execution_count": 13,
   "metadata": {},
   "outputs": [
    {
     "data": {
      "image/png": "[encoded data removed]",
      "text/plain": [
       "<matplotlib.figure.Figure at 0x26206f0ec88>"
      ]
     },
     "metadata": {},
     "output_type": "display_data"
    }
   ],
   "source": [
    "cross_validation_visualization_rmse(lambdas, rmse_train_C, rmse_test_C)"
   ]
  },
  {
   "cell_type": "code",
   "execution_count": 14,
   "metadata": {},
   "outputs": [
    {
     "data": {
      "text/plain": [
       "array([[2679, 2094],\n",
       "       [ 833,  644]], dtype=int64)"
      ]
     },
     "execution_count": 14,
     "metadata": {},
     "output_type": "execute_result"
    }
   ],
   "source": [
    "confusion_matrix(y_test, z_test)"
   ]
  },
  {
   "cell_type": "code",
   "execution_count": 15,
   "metadata": {},
   "outputs": [
    {
     "data": {
      "text/plain": [
       "array([[2679, 2094],\n",
       "       [ 833,  644]], dtype=int64)"
      ]
     },
     "execution_count": 15,
     "metadata": {},
     "output_type": "execute_result"
    }
   ],
   "source": [
    "confusion_matrix(y_test, z_test_pp)"
   ]
  },
  {
   "cell_type": "code",
   "execution_count": null,
   "metadata": {},
   "outputs": [],
   "source": []
  }
 ],
 "metadata": {
  "kernelspec": {
   "display_name": "Python [default]",
   "language": "python",
   "name": "python3"
  },
  "language_info": {
   "codemirror_mode": {
    "name": "ipython",
    "version": 3
   },
   "file_extension": ".py",
   "mimetype": "text/x-python",
   "name": "python",
   "nbconvert_exporter": "python",
   "pygments_lexer": "ipython3",
   "version": "3.6.1"
  }
 },
 "nbformat": 4,
 "nbformat_minor": 1
}
